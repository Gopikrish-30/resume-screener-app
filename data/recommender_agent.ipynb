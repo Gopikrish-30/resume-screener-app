{
 "cells": [
  {
   "cell_type": "code",
   "execution_count": 1,
   "id": "27d35c08-b46b-4f67-83dd-f8368f3887c8",
   "metadata": {},
   "outputs": [],
   "source": [
    "from pathlib import Path\n",
    "import json\n",
    "\n",
    "# Set paths\n",
    "PROJECT_ROOT = Path().resolve().parent\n",
    "INPUT_FILE = PROJECT_ROOT / \"data\" / \"hr_output.json\"\n",
    "OUTPUT_FILE = PROJECT_ROOT / \"data\" / \"final_recommendations.json\"\n"
   ]
  },
  {
   "cell_type": "code",
   "execution_count": 2,
   "id": "08f1730e-952a-4179-a188-48a7859a98bf",
   "metadata": {},
   "outputs": [],
   "source": [
    "def recommender_agent(resume):\n",
    "    score = resume.get(\"match_score\", 0)\n",
    "    red_flags = len(resume.get(\"red_flags\", []))\n",
    "    soft_skills = len(resume.get(\"soft_skills\", []))\n",
    "\n",
    "    # 🧮 Final weighted score\n",
    "    recommendation_score = score + (soft_skills * 2) - (red_flags * 5)\n",
    "\n",
    "    result = resume.copy()\n",
    "    result[\"recommendation_score\"] = round(recommendation_score, 2)\n",
    "    return result\n"
   ]
  },
  {
   "cell_type": "code",
   "execution_count": 3,
   "id": "d3916fb7-1ac2-4b9d-99e0-e228b0cf2487",
   "metadata": {},
   "outputs": [
    {
     "name": "stdout",
     "output_type": "stream",
     "text": [
      "✅ Recommender Agent selected top 3 candidates.\n"
     ]
    }
   ],
   "source": [
    "# Load HR-processed resumes\n",
    "with open(INPUT_FILE, \"r\", encoding=\"utf-8\") as f:\n",
    "    resumes = json.load(f)\n",
    "\n",
    "# Score and rank\n",
    "scored = [recommender_agent(r) for r in resumes]\n",
    "ranked = sorted(scored, key=lambda x: x[\"recommendation_score\"], reverse=True)\n",
    "\n",
    "# Top 3\n",
    "top_3 = ranked[:3]\n",
    "\n",
    "# Save to file\n",
    "with open(OUTPUT_FILE, \"w\", encoding=\"utf-8\") as f:\n",
    "    json.dump(top_3, f, indent=2)\n",
    "\n",
    "print(\"✅ Recommender Agent selected top 3 candidates.\")\n"
   ]
  },
  {
   "cell_type": "code",
   "execution_count": null,
   "id": "ff4a45f2-cf57-4736-ae5d-a331dc26f221",
   "metadata": {},
   "outputs": [],
   "source": []
  }
 ],
 "metadata": {
  "kernelspec": {
   "display_name": "Python (resume-env)",
   "language": "python",
   "name": "resume-env"
  },
  "language_info": {
   "codemirror_mode": {
    "name": "ipython",
    "version": 3
   },
   "file_extension": ".py",
   "mimetype": "text/x-python",
   "name": "python",
   "nbconvert_exporter": "python",
   "pygments_lexer": "ipython3",
   "version": "3.10.18"
  }
 },
 "nbformat": 4,
 "nbformat_minor": 5
}
