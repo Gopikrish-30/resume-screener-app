{
 "cells": [
  {
   "cell_type": "code",
   "execution_count": 1,
   "id": "2353f716-cc77-4a7e-8e4c-f9d019df780e",
   "metadata": {},
   "outputs": [],
   "source": [
    "from pathlib import Path\n",
    "import json\n",
    "import re\n",
    "\n",
    "# Project path setup\n",
    "PROJECT_ROOT = Path().resolve().parent\n",
    "INPUT_FILE = PROJECT_ROOT / \"data\" / \"analyst_output.json\"\n",
    "OUTPUT_FILE = PROJECT_ROOT / \"data\" / \"hr_output.json\"\n"
   ]
  },
  {
   "cell_type": "code",
   "execution_count": 2,
   "id": "6961bb08-45aa-41d5-8302-edc6484124cf",
   "metadata": {},
   "outputs": [],
   "source": [
    "# Keywords (you can improve this later)\n",
    "soft_skills_keywords = [\n",
    "    \"communication\", \"leadership\", \"teamwork\", \"adaptability\",\n",
    "    \"problem solving\", \"critical thinking\", \"collaboration\", \"creativity\"\n",
    "]\n",
    "\n",
    "red_flag_patterns = [\n",
    "    r\"\\bterminated\\b\",\n",
    "    r\"\\bgap\\b\",\n",
    "    r\"\\bunemployed\\b\",\n",
    "    r\"\\bno experience\\b\",\n",
    "    r\"\\bjob hopping\\b\"\n",
    "]\n",
    "\n",
    "def hr_agent(resume):\n",
    "    full_text = resume.get(\"clean_text\", \"\").lower()\n",
    "\n",
    "    # Detect soft skills\n",
    "    soft_skills = [skill for skill in soft_skills_keywords if skill in full_text]\n",
    "\n",
    "    # Detect red flags\n",
    "    red_flags = []\n",
    "    for pattern in red_flag_patterns:\n",
    "        if re.search(pattern, full_text):\n",
    "            red_flags.append(pattern.strip(r\"\\b\"))\n",
    "\n",
    "    result = resume.copy()\n",
    "    result[\"soft_skills\"] = soft_skills\n",
    "    result[\"red_flags\"] = red_flags\n",
    "    return result\n"
   ]
  },
  {
   "cell_type": "code",
   "execution_count": 3,
   "id": "e2d66ada-08ae-4afb-9c3c-faf91819ff17",
   "metadata": {},
   "outputs": [
    {
     "name": "stdout",
     "output_type": "stream",
     "text": [
      "✅ HR Agent processed 10 resumes.\n"
     ]
    }
   ],
   "source": [
    "# Load analyst results\n",
    "with open(INPUT_FILE, \"r\", encoding=\"utf-8\") as f:\n",
    "    resumes = json.load(f)\n",
    "\n",
    "# Process through HR agent\n",
    "hr_results = []\n",
    "\n",
    "for resume in resumes:\n",
    "    result = hr_agent(resume)\n",
    "    hr_results.append(result)\n",
    "\n",
    "# Save output\n",
    "with open(OUTPUT_FILE, \"w\", encoding=\"utf-8\") as f:\n",
    "    json.dump(hr_results, f, indent=2)\n",
    "\n",
    "print(f\"✅ HR Agent processed {len(hr_results)} resumes.\")\n"
   ]
  },
  {
   "cell_type": "code",
   "execution_count": null,
   "id": "725733c6-b20e-4a29-9eef-37d63e3fd5cd",
   "metadata": {},
   "outputs": [],
   "source": []
  }
 ],
 "metadata": {
  "kernelspec": {
   "display_name": "Python (resume-env)",
   "language": "python",
   "name": "resume-env"
  },
  "language_info": {
   "codemirror_mode": {
    "name": "ipython",
    "version": 3
   },
   "file_extension": ".py",
   "mimetype": "text/x-python",
   "name": "python",
   "nbconvert_exporter": "python",
   "pygments_lexer": "ipython3",
   "version": "3.10.18"
  }
 },
 "nbformat": 4,
 "nbformat_minor": 5
}
