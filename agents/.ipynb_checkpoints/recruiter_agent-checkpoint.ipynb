{
 "cells": [
  {
   "cell_type": "code",
   "execution_count": 8,
   "id": "ca347034-42a4-476c-9830-8adbec016f3c",
   "metadata": {},
   "outputs": [],
   "source": [
    "from pathlib import Path\n",
    "import json\n",
    "import re\n",
    "\n",
    "# ✅ Set paths correctly\n",
    "PROJECT_ROOT = Path().resolve().parent\n",
    "  # go up from /agents\n",
    "INPUT_FILE = PROJECT_ROOT / \"data\" / \"recruiter_output.json\"\n",
    "OUTPUT_FILE = PROJECT_ROOT / \"data\" / \"recruiter_enriched.json\"\n",
    "\n",
    "# 📦 Recruiter Agent Functions\n",
    "\n",
    "def extract_email(text):\n",
    "    match = re.search(r\"[a-zA-Z0-9_.+-]+@[a-zA-Z0-9-]+\\.[a-zA-Z0-9-.]+\", text)\n",
    "    return match.group(0) if match else None\n",
    "\n",
    "def extract_phone(text):\n",
    "    match = re.search(r\"\\+?\\d[\\d\\s\\-]{8,}\\d\", text)\n",
    "    return match.group(0) if match else None\n",
    "\n",
    "def clean_resume(text):\n",
    "    return ' '.join(text.split())\n",
    "\n",
    "def recruiter_agent(parsed_resume):\n",
    "    full_text = parsed_resume.get(\"raw\", \"\")\n",
    "    enriched = parsed_resume.copy()\n",
    "\n",
    "    enriched[\"email\"] = extract_email(full_text)\n",
    "    enriched[\"phone\"] = extract_phone(full_text)\n",
    "    enriched[\"clean_text\"] = clean_resume(full_text)\n",
    "\n",
    "    return enriched\n"
   ]
  },
  {
   "cell_type": "code",
   "execution_count": 9,
   "id": "566d7931-a815-44ea-9a5f-41d9f8ecd14c",
   "metadata": {},
   "outputs": [
    {
     "name": "stdout",
     "output_type": "stream",
     "text": [
      "✅ Successfully processed 10 resumes with Recruiter Agent.\n"
     ]
    }
   ],
   "source": [
    "# 📥 Load parsed resumes\n",
    "with open(INPUT_FILE, \"r\", encoding=\"utf-8\") as f:\n",
    "    parsed_resumes = json.load(f)\n",
    "\n",
    "# 🧠 Process each resume with Recruiter Agent\n",
    "enriched_resumes = []\n",
    "\n",
    "for resume in parsed_resumes:\n",
    "    enriched = recruiter_agent(resume)\n",
    "    enriched_resumes.append(enriched)\n",
    "\n",
    "# 💾 Save enriched results\n",
    "with open(OUTPUT_FILE, \"w\", encoding=\"utf-8\") as f:\n",
    "    json.dump(enriched_resumes, f, indent=2)\n",
    "\n",
    "print(f\"✅ Successfully processed {len(enriched_resumes)} resumes with Recruiter Agent.\")\n"
   ]
  },
  {
   "cell_type": "code",
   "execution_count": null,
   "id": "4b98603d-4109-4378-a353-e619d175c59e",
   "metadata": {},
   "outputs": [],
   "source": []
  }
 ],
 "metadata": {
  "kernelspec": {
   "display_name": "Python (resume-env)",
   "language": "python",
   "name": "resume-env"
  },
  "language_info": {
   "codemirror_mode": {
    "name": "ipython",
    "version": 3
   },
   "file_extension": ".py",
   "mimetype": "text/x-python",
   "name": "python",
   "nbconvert_exporter": "python",
   "pygments_lexer": "ipython3",
   "version": "3.10.18"
  }
 },
 "nbformat": 4,
 "nbformat_minor": 5
}
