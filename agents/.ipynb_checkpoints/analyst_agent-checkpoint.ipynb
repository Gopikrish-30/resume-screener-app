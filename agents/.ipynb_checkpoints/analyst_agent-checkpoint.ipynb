{
 "cells": [
  {
   "cell_type": "code",
   "execution_count": 2,
   "id": "6ae55722-22e1-40c9-9265-45727e668e34",
   "metadata": {},
   "outputs": [
    {
     "name": "stderr",
     "output_type": "stream",
     "text": [
      "C:\\Users\\suriy\\New folder\\envs\\resume-env\\lib\\site-packages\\tqdm\\auto.py:21: TqdmWarning: IProgress not found. Please update jupyter and ipywidgets. See https://ipywidgets.readthedocs.io/en/stable/user_install.html\n",
      "  from .autonotebook import tqdm as notebook_tqdm\n"
     ]
    }
   ],
   "source": [
    "from pathlib import Path\n",
    "import json\n",
    "import re\n",
    "from sentence_transformers import SentenceTransformer, util\n",
    "\n",
    "# ✅ Set project root (you are in /agents/)\n",
    "PROJECT_ROOT = Path().resolve().parent\n",
    "INPUT_FILE = PROJECT_ROOT / \"data\" / \"recruiter_enriched.json\"\n",
    "JD_FILE = PROJECT_ROOT / \"data\" / \"job_descriptions\" / \"data_analyst.txt\"\n",
    "OUTPUT_FILE = PROJECT_ROOT / \"data\" / \"analyst_output.json\"\n",
    "\n",
    "# 🔍 Load sentence transformer model (only once)\n",
    "model = SentenceTransformer(\"all-MiniLM-L6-v2\")\n"
   ]
  },
  {
   "cell_type": "code",
   "execution_count": 3,
   "id": "df86ee86-5b77-4653-994c-aed37c82b31c",
   "metadata": {},
   "outputs": [],
   "source": [
    "def extract_keywords(text):\n",
    "    # Basic hardcoded keywords (expand as needed)\n",
    "    keywords = re.findall(\n",
    "        r\"\\b(python|sql|excel|communication|powerbi|pandas|tableau|aws|flask|django)\\b\",\n",
    "        text, re.I\n",
    "    )\n",
    "    return list(set(map(str.lower, keywords)))\n",
    "\n",
    "def analyst_agent(resume, jd_text):\n",
    "    resume_skills = resume.get(\"skills\", [])\n",
    "    jd_skills = extract_keywords(jd_text)\n",
    "\n",
    "    resume_embed = model.encode(\" \".join(resume_skills), convert_to_tensor=True)\n",
    "    jd_embed = model.encode(\" \".join(jd_skills), convert_to_tensor=True)\n",
    "\n",
    "    similarity = util.cos_sim(resume_embed, jd_embed).item()\n",
    "    score = round(similarity * 100, 2)\n",
    "\n",
    "    matched = list(set(resume_skills) & set(jd_skills))\n",
    "    missing = list(set(jd_skills) - set(resume_skills))\n",
    "\n",
    "    return {\n",
    "        \"file_name\": resume[\"file_name\"],\n",
    "        \"match_score\": score,\n",
    "        \"matched_skills\": matched,\n",
    "        \"missing_skills\": missing\n",
    "    }\n"
   ]
  },
  {
   "cell_type": "code",
   "execution_count": 4,
   "id": "e1747b2d-335e-4994-9377-de79e55e83dc",
   "metadata": {},
   "outputs": [
    {
     "ename": "FileNotFoundError",
     "evalue": "[Errno 2] No such file or directory: 'C:\\\\Users\\\\suriy\\\\FINAL PROJECT\\\\data\\\\job_descriptions\\\\data_analyst.txt'",
     "output_type": "error",
     "traceback": [
      "\u001b[1;31m---------------------------------------------------------------------------\u001b[0m",
      "\u001b[1;31mFileNotFoundError\u001b[0m                         Traceback (most recent call last)",
      "Cell \u001b[1;32mIn[4], line 6\u001b[0m\n\u001b[0;32m      3\u001b[0m     resumes \u001b[38;5;241m=\u001b[39m json\u001b[38;5;241m.\u001b[39mload(f)\n\u001b[0;32m      5\u001b[0m \u001b[38;5;66;03m# Load job description\u001b[39;00m\n\u001b[1;32m----> 6\u001b[0m \u001b[38;5;28;01mwith\u001b[39;00m \u001b[38;5;28;43mopen\u001b[39;49m\u001b[43m(\u001b[49m\u001b[43mJD_FILE\u001b[49m\u001b[43m,\u001b[49m\u001b[43m \u001b[49m\u001b[38;5;124;43m\"\u001b[39;49m\u001b[38;5;124;43mr\u001b[39;49m\u001b[38;5;124;43m\"\u001b[39;49m\u001b[43m,\u001b[49m\u001b[43m \u001b[49m\u001b[43mencoding\u001b[49m\u001b[38;5;241;43m=\u001b[39;49m\u001b[38;5;124;43m\"\u001b[39;49m\u001b[38;5;124;43mutf-8\u001b[39;49m\u001b[38;5;124;43m\"\u001b[39;49m\u001b[43m)\u001b[49m \u001b[38;5;28;01mas\u001b[39;00m f:\n\u001b[0;32m      7\u001b[0m     jd_text \u001b[38;5;241m=\u001b[39m f\u001b[38;5;241m.\u001b[39mread()\n\u001b[0;32m      9\u001b[0m \u001b[38;5;66;03m# Score each resume\u001b[39;00m\n",
      "File \u001b[1;32m~\\New folder\\envs\\resume-env\\lib\\site-packages\\IPython\\core\\interactiveshell.py:324\u001b[0m, in \u001b[0;36m_modified_open\u001b[1;34m(file, *args, **kwargs)\u001b[0m\n\u001b[0;32m    317\u001b[0m \u001b[38;5;28;01mif\u001b[39;00m file \u001b[38;5;129;01min\u001b[39;00m {\u001b[38;5;241m0\u001b[39m, \u001b[38;5;241m1\u001b[39m, \u001b[38;5;241m2\u001b[39m}:\n\u001b[0;32m    318\u001b[0m     \u001b[38;5;28;01mraise\u001b[39;00m \u001b[38;5;167;01mValueError\u001b[39;00m(\n\u001b[0;32m    319\u001b[0m         \u001b[38;5;124mf\u001b[39m\u001b[38;5;124m\"\u001b[39m\u001b[38;5;124mIPython won\u001b[39m\u001b[38;5;124m'\u001b[39m\u001b[38;5;124mt let you open fd=\u001b[39m\u001b[38;5;132;01m{\u001b[39;00mfile\u001b[38;5;132;01m}\u001b[39;00m\u001b[38;5;124m by default \u001b[39m\u001b[38;5;124m\"\u001b[39m\n\u001b[0;32m    320\u001b[0m         \u001b[38;5;124m\"\u001b[39m\u001b[38;5;124mas it is likely to crash IPython. If you know what you are doing, \u001b[39m\u001b[38;5;124m\"\u001b[39m\n\u001b[0;32m    321\u001b[0m         \u001b[38;5;124m\"\u001b[39m\u001b[38;5;124myou can use builtins\u001b[39m\u001b[38;5;124m'\u001b[39m\u001b[38;5;124m open.\u001b[39m\u001b[38;5;124m\"\u001b[39m\n\u001b[0;32m    322\u001b[0m     )\n\u001b[1;32m--> 324\u001b[0m \u001b[38;5;28;01mreturn\u001b[39;00m io_open(file, \u001b[38;5;241m*\u001b[39margs, \u001b[38;5;241m*\u001b[39m\u001b[38;5;241m*\u001b[39mkwargs)\n",
      "\u001b[1;31mFileNotFoundError\u001b[0m: [Errno 2] No such file or directory: 'C:\\\\Users\\\\suriy\\\\FINAL PROJECT\\\\data\\\\job_descriptions\\\\data_analyst.txt'"
     ]
    }
   ],
   "source": [
    "# Load enriched resumes\n",
    "with open(INPUT_FILE, \"r\", encoding=\"utf-8\") as f:\n",
    "    resumes = json.load(f)\n",
    "\n",
    "# Load job description\n",
    "with open(JD_FILE, \"r\", encoding=\"utf-8\") as f:\n",
    "    jd_text = f.read()\n",
    "\n",
    "# Score each resume\n",
    "results = []\n",
    "\n",
    "for resume in resumes:\n",
    "    result = analyst_agent(resume, jd_text)\n",
    "    results.append(result)\n",
    "\n",
    "# Save output\n",
    "with open(OUTPUT_FILE, \"w\", encoding=\"utf-8\") as f:\n",
    "    json.dump(results, f, indent=2)\n",
    "\n",
    "print(f\"✅ Analyst Agent scored {len(results)} resumes against JD.\")\n"
   ]
  },
  {
   "cell_type": "code",
   "execution_count": null,
   "id": "0f4f237f-6e6b-4846-80f6-9d111d12ded3",
   "metadata": {},
   "outputs": [],
   "source": []
  }
 ],
 "metadata": {
  "kernelspec": {
   "display_name": "Python (resume-env)",
   "language": "python",
   "name": "resume-env"
  },
  "language_info": {
   "codemirror_mode": {
    "name": "ipython",
    "version": 3
   },
   "file_extension": ".py",
   "mimetype": "text/x-python",
   "name": "python",
   "nbconvert_exporter": "python",
   "pygments_lexer": "ipython3",
   "version": "3.10.18"
  }
 },
 "nbformat": 4,
 "nbformat_minor": 5
}
