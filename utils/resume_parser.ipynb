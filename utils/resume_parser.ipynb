{
 "cells": [
  {
   "cell_type": "code",
   "execution_count": 1,
   "id": "3788b59f-b8f7-4ea3-b351-9e45870144f0",
   "metadata": {},
   "outputs": [
    {
     "name": "stdout",
     "output_type": "stream",
     "text": [
      "✅ Done parsing all resumes.\n"
     ]
    }
   ],
   "source": [
    "from pathlib import Path\n",
    "import os, re, docx, json\n",
    "from pypdf import PdfReader\n",
    "from collections import defaultdict\n",
    "import spacy\n",
    "\n",
    "nlp = spacy.load(\"en_core_web_sm\")\n",
    "\n",
    "PROJECT_ROOT = Path().resolve().parent\n",
    "\n",
    "RESUME_FOLDER = PROJECT_ROOT / \"data\" / \"resumes\"\n",
    "OUTPUT_FILE = PROJECT_ROOT / \"data\" / \"recruiter_output.json\"\n",
    "\n",
    "def extract_text(file_path):\n",
    "    path = Path(file_path)\n",
    "    if path.suffix == \".pdf\":\n",
    "        reader = PdfReader(str(path))\n",
    "        return \"\\n\".join([p.extract_text() or \"\" for p in reader.pages])\n",
    "    elif path.suffix == \".docx\":\n",
    "        doc = docx.Document(str(path))\n",
    "        return \"\\n\".join([p.text for p in doc.paragraphs])\n",
    "    else:\n",
    "        return \"\"\n",
    "\n",
    "def parse_resume(text):\n",
    "    doc = nlp(text)\n",
    "    out = defaultdict(list)\n",
    "    for ent in doc.ents:\n",
    "        if ent.label_ in {\"PERSON\", \"ORG\"}:\n",
    "            out[\"names_orgs\"].append(ent.text)\n",
    "        elif ent.label_ == \"GPE\":\n",
    "            out[\"locations\"].append(ent.text)\n",
    "        elif ent.label_ == \"DATE\":\n",
    "            out[\"dates\"].append(ent.text)\n",
    "    skills = re.findall(r\"\\b(python|sql|aws|excel|pandas)\\b\", text, re.I)\n",
    "    out[\"skills\"] = list(set(map(str.lower, skills)))\n",
    "    out[\"raw\"] = text[:2000]\n",
    "    return dict(out)\n",
    "\n",
    "# Parse all resumes\n",
    "results = []\n",
    "for file in RESUME_FOLDER.iterdir():\n",
    "    if file.suffix in [\".pdf\", \".docx\"]:\n",
    "        try:\n",
    "            text = extract_text(file)\n",
    "            parsed = parse_resume(text)\n",
    "            parsed[\"file_name\"] = file.name\n",
    "            results.append(parsed)\n",
    "        except Exception as e:\n",
    "            print(f\"Error: {file.name} -> {e}\")\n",
    "\n",
    "# Save\n",
    "with open(OUTPUT_FILE, \"w\") as f:\n",
    "    json.dump(results, f, indent=2)\n",
    "\n",
    "print(\"✅ Done parsing all resumes.\")\n"
   ]
  },
  {
   "cell_type": "code",
   "execution_count": null,
   "id": "d665e2e0-477d-4742-a5fa-faecdc961429",
   "metadata": {},
   "outputs": [],
   "source": []
  }
 ],
 "metadata": {
  "kernelspec": {
   "display_name": "Python (resume-env)",
   "language": "python",
   "name": "resume-env"
  },
  "language_info": {
   "codemirror_mode": {
    "name": "ipython",
    "version": 3
   },
   "file_extension": ".py",
   "mimetype": "text/x-python",
   "name": "python",
   "nbconvert_exporter": "python",
   "pygments_lexer": "ipython3",
   "version": "3.10.18"
  }
 },
 "nbformat": 4,
 "nbformat_minor": 5
}
